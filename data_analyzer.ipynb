{
 "cells": [
  {
   "cell_type": "code",
   "execution_count": 3,
   "metadata": {},
   "outputs": [],
   "source": [
    "import pandas as pd"
   ]
  },
  {
   "cell_type": "code",
   "execution_count": 4,
   "metadata": {},
   "outputs": [],
   "source": [
    "df = pd.read_csv('results/pucit_result.csv')"
   ]
  },
  {
   "cell_type": "code",
   "execution_count": 5,
   "metadata": {},
   "outputs": [
    {
     "data": {
      "text/html": [
       "<div>\n",
       "<style scoped>\n",
       "    .dataframe tbody tr th:only-of-type {\n",
       "        vertical-align: middle;\n",
       "    }\n",
       "\n",
       "    .dataframe tbody tr th {\n",
       "        vertical-align: top;\n",
       "    }\n",
       "\n",
       "    .dataframe thead th {\n",
       "        text-align: right;\n",
       "    }\n",
       "</style>\n",
       "<table border=\"1\" class=\"dataframe\">\n",
       "  <thead>\n",
       "    <tr style=\"text-align: right;\">\n",
       "      <th></th>\n",
       "      <th>Roll Number</th>\n",
       "      <th>Name of Category of Admission Test</th>\n",
       "      <th>Marks Obtained</th>\n",
       "    </tr>\n",
       "  </thead>\n",
       "  <tbody>\n",
       "    <tr>\n",
       "      <th>0</th>\n",
       "      <td>5001</td>\n",
       "      <td>Pre-Engineering (PU-E)</td>\n",
       "      <td>56</td>\n",
       "    </tr>\n",
       "    <tr>\n",
       "      <th>1</th>\n",
       "      <td>5004</td>\n",
       "      <td>Pre-Engineering (PU-E)</td>\n",
       "      <td>46</td>\n",
       "    </tr>\n",
       "    <tr>\n",
       "      <th>2</th>\n",
       "      <td>5007</td>\n",
       "      <td>Pre-Engineering (PU-E)</td>\n",
       "      <td>73</td>\n",
       "    </tr>\n",
       "    <tr>\n",
       "      <th>3</th>\n",
       "      <td>5008</td>\n",
       "      <td>Arts, Humanities &amp; Social Sciences (PU-AHS)</td>\n",
       "      <td>60</td>\n",
       "    </tr>\n",
       "    <tr>\n",
       "      <th>4</th>\n",
       "      <td>5009</td>\n",
       "      <td>Arts, Humanities &amp; Social Sciences (PU-AHS)</td>\n",
       "      <td>58</td>\n",
       "    </tr>\n",
       "    <tr>\n",
       "      <th>...</th>\n",
       "      <td>...</td>\n",
       "      <td>...</td>\n",
       "      <td>...</td>\n",
       "    </tr>\n",
       "    <tr>\n",
       "      <th>35286</th>\n",
       "      <td>39994</td>\n",
       "      <td>Pre-Medical (PU-M)</td>\n",
       "      <td>54</td>\n",
       "    </tr>\n",
       "    <tr>\n",
       "      <th>35287</th>\n",
       "      <td>39995</td>\n",
       "      <td>Pre-Medical (PU-M)</td>\n",
       "      <td>57</td>\n",
       "    </tr>\n",
       "    <tr>\n",
       "      <th>35288</th>\n",
       "      <td>39997</td>\n",
       "      <td>Pre-Medical (PU-M)</td>\n",
       "      <td>0</td>\n",
       "    </tr>\n",
       "    <tr>\n",
       "      <th>35289</th>\n",
       "      <td>39998</td>\n",
       "      <td>Pre-Medical (PU-M)</td>\n",
       "      <td>55</td>\n",
       "    </tr>\n",
       "    <tr>\n",
       "      <th>35290</th>\n",
       "      <td>39999</td>\n",
       "      <td>Pre-Medical (PU-M)</td>\n",
       "      <td>64</td>\n",
       "    </tr>\n",
       "  </tbody>\n",
       "</table>\n",
       "<p>35291 rows × 3 columns</p>\n",
       "</div>"
      ],
      "text/plain": [
       "       Roll Number           Name of Category of Admission Test  \\\n",
       "0             5001                       Pre-Engineering (PU-E)   \n",
       "1             5004                       Pre-Engineering (PU-E)   \n",
       "2             5007                       Pre-Engineering (PU-E)   \n",
       "3             5008  Arts, Humanities & Social Sciences (PU-AHS)   \n",
       "4             5009  Arts, Humanities & Social Sciences (PU-AHS)   \n",
       "...            ...                                          ...   \n",
       "35286        39994                           Pre-Medical (PU-M)   \n",
       "35287        39995                           Pre-Medical (PU-M)   \n",
       "35288        39997                           Pre-Medical (PU-M)   \n",
       "35289        39998                           Pre-Medical (PU-M)   \n",
       "35290        39999                           Pre-Medical (PU-M)   \n",
       "\n",
       "       Marks Obtained  \n",
       "0                  56  \n",
       "1                  46  \n",
       "2                  73  \n",
       "3                  60  \n",
       "4                  58  \n",
       "...               ...  \n",
       "35286              54  \n",
       "35287              57  \n",
       "35288               0  \n",
       "35289              55  \n",
       "35290              64  \n",
       "\n",
       "[35291 rows x 3 columns]"
      ]
     },
     "execution_count": 5,
     "metadata": {},
     "output_type": "execute_result"
    }
   ],
   "source": [
    "df"
   ]
  },
  {
   "cell_type": "code",
   "execution_count": 12,
   "metadata": {},
   "outputs": [
    {
     "name": "stdout",
     "output_type": "stream",
     "text": [
      "22 out of 35291 have more than 90 or 90+ marks\n",
      "602 out of 35291 have more than 80 or 80+ marks\n",
      "3296 out of 35291 have more than 70 or 70+ marks\n"
     ]
    }
   ],
   "source": [
    "total_scraped = len(df)\n",
    "people_with_more_than_90_nums = len(df[df['Marks Obtained'] >= 90])\n",
    "print(f\"{people_with_more_than_90_nums} out of {total_scraped} have more than 90 or 90+ marks\")\n",
    "people_with_more_than_80_nums = len(df[df['Marks Obtained'] >= 80])\n",
    "print(f\"{people_with_more_than_80_nums} out of {total_scraped} have more than 80 or 80+ marks\")\n",
    "people_with_more_than_70_nums = len(df[df['Marks Obtained'] >= 70])\n",
    "print(f\"{people_with_more_than_70_nums} out of {total_scraped} have more than 70 or 70+ marks\")\n"
   ]
  },
  {
   "cell_type": "code",
   "execution_count": 13,
   "metadata": {},
   "outputs": [
    {
     "data": {
      "text/html": [
       "<div>\n",
       "<style scoped>\n",
       "    .dataframe tbody tr th:only-of-type {\n",
       "        vertical-align: middle;\n",
       "    }\n",
       "\n",
       "    .dataframe tbody tr th {\n",
       "        vertical-align: top;\n",
       "    }\n",
       "\n",
       "    .dataframe thead th {\n",
       "        text-align: right;\n",
       "    }\n",
       "</style>\n",
       "<table border=\"1\" class=\"dataframe\">\n",
       "  <thead>\n",
       "    <tr style=\"text-align: right;\">\n",
       "      <th></th>\n",
       "      <th>Roll Number</th>\n",
       "      <th>Name of Category of Admission Test</th>\n",
       "      <th>Marks Obtained</th>\n",
       "    </tr>\n",
       "  </thead>\n",
       "  <tbody>\n",
       "    <tr>\n",
       "      <th>1493</th>\n",
       "      <td>2732</td>\n",
       "      <td>ICS with Physics Combination (PU-CSP)</td>\n",
       "      <td>90</td>\n",
       "    </tr>\n",
       "    <tr>\n",
       "      <th>2305</th>\n",
       "      <td>644</td>\n",
       "      <td>Pre-Engineering (PU-E)</td>\n",
       "      <td>90</td>\n",
       "    </tr>\n",
       "    <tr>\n",
       "      <th>3899</th>\n",
       "      <td>6483</td>\n",
       "      <td>ICS with Physics Combination (PU-CSP)</td>\n",
       "      <td>91</td>\n",
       "    </tr>\n",
       "    <tr>\n",
       "      <th>11506</th>\n",
       "      <td>10484</td>\n",
       "      <td>ICS with Physics Combination (PU-CSP)</td>\n",
       "      <td>93</td>\n",
       "    </tr>\n",
       "    <tr>\n",
       "      <th>14756</th>\n",
       "      <td>13136</td>\n",
       "      <td>ICS with Physics Combination (PU-CSP)</td>\n",
       "      <td>90</td>\n",
       "    </tr>\n",
       "    <tr>\n",
       "      <th>18202</th>\n",
       "      <td>23025</td>\n",
       "      <td>ICS with Statistics Combination (PU-CSS)</td>\n",
       "      <td>90</td>\n",
       "    </tr>\n",
       "    <tr>\n",
       "      <th>18667</th>\n",
       "      <td>23572</td>\n",
       "      <td>ICS with Physics Combination (PU-CSP)</td>\n",
       "      <td>90</td>\n",
       "    </tr>\n",
       "    <tr>\n",
       "      <th>19438</th>\n",
       "      <td>29499</td>\n",
       "      <td>ICS with Physics Combination (PU-CSP)</td>\n",
       "      <td>90</td>\n",
       "    </tr>\n",
       "    <tr>\n",
       "      <th>20385</th>\n",
       "      <td>26596</td>\n",
       "      <td>ICS with Physics Combination (PU-CSP)</td>\n",
       "      <td>91</td>\n",
       "    </tr>\n",
       "    <tr>\n",
       "      <th>21767</th>\n",
       "      <td>24195</td>\n",
       "      <td>ICS with Physics Combination (PU-CSP)</td>\n",
       "      <td>91</td>\n",
       "    </tr>\n",
       "    <tr>\n",
       "      <th>21896</th>\n",
       "      <td>24342</td>\n",
       "      <td>ICS with Physics Combination (PU-CSP)</td>\n",
       "      <td>94</td>\n",
       "    </tr>\n",
       "    <tr>\n",
       "      <th>22460</th>\n",
       "      <td>24993</td>\n",
       "      <td>ICS with Physics Combination (PU-CSP)</td>\n",
       "      <td>90</td>\n",
       "    </tr>\n",
       "    <tr>\n",
       "      <th>24441</th>\n",
       "      <td>27354</td>\n",
       "      <td>ICS with Physics Combination (PU-CSP)</td>\n",
       "      <td>90</td>\n",
       "    </tr>\n",
       "    <tr>\n",
       "      <th>25092</th>\n",
       "      <td>28122</td>\n",
       "      <td>Pre-Engineering (PU-E)</td>\n",
       "      <td>93</td>\n",
       "    </tr>\n",
       "    <tr>\n",
       "      <th>26737</th>\n",
       "      <td>34051</td>\n",
       "      <td>Pre-Engineering (PU-E)</td>\n",
       "      <td>90</td>\n",
       "    </tr>\n",
       "    <tr>\n",
       "      <th>27233</th>\n",
       "      <td>34615</td>\n",
       "      <td>ICS with Physics Combination (PU-CSP)</td>\n",
       "      <td>90</td>\n",
       "    </tr>\n",
       "    <tr>\n",
       "      <th>28860</th>\n",
       "      <td>30472</td>\n",
       "      <td>ICS with Physics Combination (PU-CSP)</td>\n",
       "      <td>92</td>\n",
       "    </tr>\n",
       "    <tr>\n",
       "      <th>29176</th>\n",
       "      <td>30831</td>\n",
       "      <td>ICS with Physics Combination (PU-CSP)</td>\n",
       "      <td>91</td>\n",
       "    </tr>\n",
       "    <tr>\n",
       "      <th>31903</th>\n",
       "      <td>33075</td>\n",
       "      <td>ICS with Physics Combination (PU-CSP)</td>\n",
       "      <td>90</td>\n",
       "    </tr>\n",
       "    <tr>\n",
       "      <th>32696</th>\n",
       "      <td>33990</td>\n",
       "      <td>ICS with Physics Combination (PU-CSP)</td>\n",
       "      <td>92</td>\n",
       "    </tr>\n",
       "    <tr>\n",
       "      <th>32697</th>\n",
       "      <td>33991</td>\n",
       "      <td>ICS with Physics Combination (PU-CSP)</td>\n",
       "      <td>92</td>\n",
       "    </tr>\n",
       "    <tr>\n",
       "      <th>33348</th>\n",
       "      <td>38743</td>\n",
       "      <td>Pre-Engineering (PU-E)</td>\n",
       "      <td>90</td>\n",
       "    </tr>\n",
       "  </tbody>\n",
       "</table>\n",
       "</div>"
      ],
      "text/plain": [
       "       Roll Number        Name of Category of Admission Test  Marks Obtained\n",
       "1493          2732     ICS with Physics Combination (PU-CSP)              90\n",
       "2305           644                    Pre-Engineering (PU-E)              90\n",
       "3899          6483     ICS with Physics Combination (PU-CSP)              91\n",
       "11506        10484     ICS with Physics Combination (PU-CSP)              93\n",
       "14756        13136     ICS with Physics Combination (PU-CSP)              90\n",
       "18202        23025  ICS with Statistics Combination (PU-CSS)              90\n",
       "18667        23572     ICS with Physics Combination (PU-CSP)              90\n",
       "19438        29499     ICS with Physics Combination (PU-CSP)              90\n",
       "20385        26596     ICS with Physics Combination (PU-CSP)              91\n",
       "21767        24195     ICS with Physics Combination (PU-CSP)              91\n",
       "21896        24342     ICS with Physics Combination (PU-CSP)              94\n",
       "22460        24993     ICS with Physics Combination (PU-CSP)              90\n",
       "24441        27354     ICS with Physics Combination (PU-CSP)              90\n",
       "25092        28122                    Pre-Engineering (PU-E)              93\n",
       "26737        34051                    Pre-Engineering (PU-E)              90\n",
       "27233        34615     ICS with Physics Combination (PU-CSP)              90\n",
       "28860        30472     ICS with Physics Combination (PU-CSP)              92\n",
       "29176        30831     ICS with Physics Combination (PU-CSP)              91\n",
       "31903        33075     ICS with Physics Combination (PU-CSP)              90\n",
       "32696        33990     ICS with Physics Combination (PU-CSP)              92\n",
       "32697        33991     ICS with Physics Combination (PU-CSP)              92\n",
       "33348        38743                    Pre-Engineering (PU-E)              90"
      ]
     },
     "execution_count": 13,
     "metadata": {},
     "output_type": "execute_result"
    }
   ],
   "source": [
    "df[df['Marks Obtained'] >= 90]"
   ]
  },
  {
   "cell_type": "code",
   "execution_count": null,
   "metadata": {},
   "outputs": [],
   "source": []
  },
  {
   "cell_type": "code",
   "execution_count": 14,
   "metadata": {},
   "outputs": [],
   "source": [
    "ics_physics_students = df[df['Name of Category of Admission Test'] == 'ICS with Physics Combination (PU-CSP)']\n",
    "ics_stats_students = df[df['Name of Category of Admission Test'] == 'ICS with Statistics Combination (PU-CSS)']\n",
    "premedical_students = df[df['Name of Category of Admission Test'] == 'Pre-Medical (PU-M)']\n",
    "preengineering_students = df[df['Name of Category of Admission Test'] == 'Pre-Engineering (PU-E)']\n",
    "humanity_students = df[df['Name of Category of Admission Test'] == 'Arts, Humanities & Social Sciences (PU-AHS)']\n"
   ]
  },
  {
   "cell_type": "code",
   "execution_count": 15,
   "metadata": {},
   "outputs": [
    {
     "data": {
      "text/plain": [
       "35291"
      ]
     },
     "execution_count": 15,
     "metadata": {},
     "output_type": "execute_result"
    }
   ],
   "source": [
    "len(df)"
   ]
  },
  {
   "cell_type": "code",
   "execution_count": 16,
   "metadata": {},
   "outputs": [
    {
     "name": "stdout",
     "output_type": "stream",
     "text": [
      "Total ICS Physics students:  9077\n",
      "Total ICS Statistics students:  1445\n",
      "Total Pre-Medical students:  14553\n",
      "Total Pre-Engineering students:  5082\n",
      "Total Humanity students:  3268\n"
     ]
    }
   ],
   "source": [
    "print(\"Total ICS Physics students: \", len(ics_physics_students))\n",
    "print(\"Total ICS Statistics students: \", len(ics_stats_students))\n",
    "print(\"Total Pre-Medical students: \", len(premedical_students))\n",
    "print(\"Total Pre-Engineering students: \", len(preengineering_students))\n",
    "print(\"Total Humanity students: \", len(humanity_students))"
   ]
  },
  {
   "cell_type": "code",
   "execution_count": null,
   "metadata": {},
   "outputs": [],
   "source": []
  },
  {
   "cell_type": "code",
   "execution_count": 17,
   "metadata": {},
   "outputs": [],
   "source": [
    "def find_merit_position(df):\n",
    "    input_roll_number = input(\"Enter your roll number: \")\n",
    "    df_sorted = df.sort_values(by='Marks Obtained', ascending=False).reset_index(drop=True)\n",
    "    meritPosition = df_sorted[df_sorted['Roll Number'] == int(input_roll_number)].index[0] + 1\n",
    "    print(f\"Your merit position is: {meritPosition}\")\n",
    "    percentile = 100 - (meritPosition / len(df)) * 100\n",
    "    print(f\"Your percentile is: {round(percentile,2)}%\")"
   ]
  },
  {
   "cell_type": "code",
   "execution_count": 18,
   "metadata": {},
   "outputs": [
    {
     "name": "stdout",
     "output_type": "stream",
     "text": [
      "Your merit position is: 11\n",
      "Your percentile is: 99.97%\n"
     ]
    }
   ],
   "source": [
    "find_merit_position(df)"
   ]
  },
  {
   "cell_type": "code",
   "execution_count": null,
   "metadata": {},
   "outputs": [],
   "source": []
  }
 ],
 "metadata": {
  "kernelspec": {
   "display_name": "Python 3",
   "language": "python",
   "name": "python3"
  },
  "language_info": {
   "codemirror_mode": {
    "name": "ipython",
    "version": 3
   },
   "file_extension": ".py",
   "mimetype": "text/x-python",
   "name": "python",
   "nbconvert_exporter": "python",
   "pygments_lexer": "ipython3",
   "version": "3.12.2"
  }
 },
 "nbformat": 4,
 "nbformat_minor": 2
}
