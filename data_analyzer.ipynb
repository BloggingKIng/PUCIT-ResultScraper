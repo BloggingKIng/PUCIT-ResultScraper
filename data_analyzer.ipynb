{
 "cells": [
  {
   "cell_type": "code",
   "execution_count": 29,
   "metadata": {},
   "outputs": [],
   "source": [
    "import pandas as pd"
   ]
  },
  {
   "cell_type": "code",
   "execution_count": 30,
   "metadata": {},
   "outputs": [],
   "source": [
    "df = pd.read_csv('pucit_result.csv')"
   ]
  },
  {
   "cell_type": "code",
   "execution_count": 31,
   "metadata": {},
   "outputs": [
    {
     "data": {
      "text/html": [
       "<div>\n",
       "<style scoped>\n",
       "    .dataframe tbody tr th:only-of-type {\n",
       "        vertical-align: middle;\n",
       "    }\n",
       "\n",
       "    .dataframe tbody tr th {\n",
       "        vertical-align: top;\n",
       "    }\n",
       "\n",
       "    .dataframe thead th {\n",
       "        text-align: right;\n",
       "    }\n",
       "</style>\n",
       "<table border=\"1\" class=\"dataframe\">\n",
       "  <thead>\n",
       "    <tr style=\"text-align: right;\">\n",
       "      <th></th>\n",
       "      <th>Unnamed: 0</th>\n",
       "      <th>Roll Number</th>\n",
       "      <th>Name of Category of Admission Test</th>\n",
       "      <th>Marks Obtained</th>\n",
       "    </tr>\n",
       "  </thead>\n",
       "  <tbody>\n",
       "    <tr>\n",
       "      <th>0</th>\n",
       "      <td>0</td>\n",
       "      <td>1</td>\n",
       "      <td>ICS with Statistics Combination (PU-CSS)</td>\n",
       "      <td>52</td>\n",
       "    </tr>\n",
       "    <tr>\n",
       "      <th>1</th>\n",
       "      <td>1</td>\n",
       "      <td>2</td>\n",
       "      <td>Pre-Medical (PU-M)</td>\n",
       "      <td>0</td>\n",
       "    </tr>\n",
       "    <tr>\n",
       "      <th>2</th>\n",
       "      <td>2</td>\n",
       "      <td>3</td>\n",
       "      <td>ICS with Statistics Combination (PU-CSS)</td>\n",
       "      <td>44</td>\n",
       "    </tr>\n",
       "    <tr>\n",
       "      <th>3</th>\n",
       "      <td>3</td>\n",
       "      <td>4</td>\n",
       "      <td>ICS with Statistics Combination (PU-CSS)</td>\n",
       "      <td>28</td>\n",
       "    </tr>\n",
       "    <tr>\n",
       "      <th>4</th>\n",
       "      <td>4</td>\n",
       "      <td>5</td>\n",
       "      <td>ICS with Statistics Combination (PU-CSS)</td>\n",
       "      <td>47</td>\n",
       "    </tr>\n",
       "    <tr>\n",
       "      <th>...</th>\n",
       "      <td>...</td>\n",
       "      <td>...</td>\n",
       "      <td>...</td>\n",
       "      <td>...</td>\n",
       "    </tr>\n",
       "    <tr>\n",
       "      <th>13961</th>\n",
       "      <td>13961</td>\n",
       "      <td>13996</td>\n",
       "      <td>ICS with Physics Combination (PU-CSP)</td>\n",
       "      <td>47</td>\n",
       "    </tr>\n",
       "    <tr>\n",
       "      <th>13962</th>\n",
       "      <td>13962</td>\n",
       "      <td>13997</td>\n",
       "      <td>ICS with Physics Combination (PU-CSP)</td>\n",
       "      <td>50</td>\n",
       "    </tr>\n",
       "    <tr>\n",
       "      <th>13963</th>\n",
       "      <td>13963</td>\n",
       "      <td>13998</td>\n",
       "      <td>ICS with Physics Combination (PU-CSP)</td>\n",
       "      <td>59</td>\n",
       "    </tr>\n",
       "    <tr>\n",
       "      <th>13964</th>\n",
       "      <td>13964</td>\n",
       "      <td>13999</td>\n",
       "      <td>ICS with Physics Combination (PU-CSP)</td>\n",
       "      <td>55</td>\n",
       "    </tr>\n",
       "    <tr>\n",
       "      <th>13965</th>\n",
       "      <td>13965</td>\n",
       "      <td>14000</td>\n",
       "      <td>ICS with Physics Combination (PU-CSP)</td>\n",
       "      <td>73</td>\n",
       "    </tr>\n",
       "  </tbody>\n",
       "</table>\n",
       "<p>13966 rows × 4 columns</p>\n",
       "</div>"
      ],
      "text/plain": [
       "       Unnamed: 0  Roll Number        Name of Category of Admission Test  \\\n",
       "0               0            1  ICS with Statistics Combination (PU-CSS)   \n",
       "1               1            2                        Pre-Medical (PU-M)   \n",
       "2               2            3  ICS with Statistics Combination (PU-CSS)   \n",
       "3               3            4  ICS with Statistics Combination (PU-CSS)   \n",
       "4               4            5  ICS with Statistics Combination (PU-CSS)   \n",
       "...           ...          ...                                       ...   \n",
       "13961       13961        13996     ICS with Physics Combination (PU-CSP)   \n",
       "13962       13962        13997     ICS with Physics Combination (PU-CSP)   \n",
       "13963       13963        13998     ICS with Physics Combination (PU-CSP)   \n",
       "13964       13964        13999     ICS with Physics Combination (PU-CSP)   \n",
       "13965       13965        14000     ICS with Physics Combination (PU-CSP)   \n",
       "\n",
       "       Marks Obtained  \n",
       "0                  52  \n",
       "1                   0  \n",
       "2                  44  \n",
       "3                  28  \n",
       "4                  47  \n",
       "...               ...  \n",
       "13961              47  \n",
       "13962              50  \n",
       "13963              59  \n",
       "13964              55  \n",
       "13965              73  \n",
       "\n",
       "[13966 rows x 4 columns]"
      ]
     },
     "execution_count": 31,
     "metadata": {},
     "output_type": "execute_result"
    }
   ],
   "source": [
    "df"
   ]
  },
  {
   "cell_type": "code",
   "execution_count": 32,
   "metadata": {},
   "outputs": [
    {
     "name": "stdout",
     "output_type": "stream",
     "text": [
      "5 out of 13966 have more than 90 or 90+ marks\n"
     ]
    }
   ],
   "source": [
    "total_scraped = len(df)\n",
    "people_with_more_than_90_nums = len(df[df['Marks Obtained'] >= 90])\n",
    "print(f\"{people_with_more_than_90_nums} out of {total_scraped} have more than 90 or 90+ marks\")"
   ]
  },
  {
   "cell_type": "code",
   "execution_count": 33,
   "metadata": {},
   "outputs": [],
   "source": [
    "ics_physics_students = df[df['Name of Category of Admission Test'] == 'ICS with Physics Combination (PU-CSP)']\n",
    "ics_stats_students = df[df['Name of Category of Admission Test'] == 'ICS with Statistics Combination (PU-CSS)']\n",
    "premedical_students = df[df['Name of Category of Admission Test'] == 'Pre-Medical (PU-M)']\n",
    "preengineering_students = df[df['Name of Category of Admission Test'] == 'Pre-Engineering (PU-E)']\n",
    "humanity_students = df[df['Name of Category of Admission Test'] == 'Arts, Humanities & Social Sciences (PU-AHS)']\n"
   ]
  },
  {
   "cell_type": "code",
   "execution_count": 34,
   "metadata": {},
   "outputs": [
    {
     "name": "stdout",
     "output_type": "stream",
     "text": [
      "Total ICS Physics students:  3170\n",
      "Total ICS Statistics students:  266\n",
      "Total Pre-Medical students:  6333\n",
      "Total Pre-Engineering students:  2051\n",
      "Total Humanity students:  1739\n"
     ]
    }
   ],
   "source": [
    "print(\"Total ICS Physics students: \", len(ics_physics_students))\n",
    "print(\"Total ICS Statistics students: \", len(ics_stats_students))\n",
    "print(\"Total Pre-Medical students: \", len(premedical_students))\n",
    "print(\"Total Pre-Engineering students: \", len(preengineering_students))\n",
    "print(\"Total Humanity students: \", len(humanity_students))"
   ]
  },
  {
   "cell_type": "code",
   "execution_count": 38,
   "metadata": {},
   "outputs": [],
   "source": [
    "roll_no = 2732\n",
    "df_sorted = df.sort_values(by='Marks Obtained', ascending=False).reset_index(drop=True)\n",
    "meritPosition = df_sorted[df_sorted['Roll Number'] == roll_no].index[0] + 1"
   ]
  },
  {
   "cell_type": "code",
   "execution_count": 40,
   "metadata": {},
   "outputs": [
    {
     "name": "stdout",
     "output_type": "stream",
     "text": [
      "Roll no 2732 has secured 3 position in PUCIT entry tests!\n"
     ]
    }
   ],
   "source": [
    "print(f\"Roll no {roll_no} has secured {meritPosition} position in PUCIT entry tests!\")"
   ]
  },
  {
   "cell_type": "code",
   "execution_count": null,
   "metadata": {},
   "outputs": [],
   "source": []
  }
 ],
 "metadata": {
  "kernelspec": {
   "display_name": "Python 3",
   "language": "python",
   "name": "python3"
  },
  "language_info": {
   "codemirror_mode": {
    "name": "ipython",
    "version": 3
   },
   "file_extension": ".py",
   "mimetype": "text/x-python",
   "name": "python",
   "nbconvert_exporter": "python",
   "pygments_lexer": "ipython3",
   "version": "3.12.2"
  }
 },
 "nbformat": 4,
 "nbformat_minor": 2
}
