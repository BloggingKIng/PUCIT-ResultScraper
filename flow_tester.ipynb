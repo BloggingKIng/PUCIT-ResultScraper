{
 "cells": [
  {
   "cell_type": "code",
   "execution_count": 1,
   "metadata": {},
   "outputs": [],
   "source": [
    "import pandas as pd\n",
    "from selenium import webdriver\n",
    "from selenium.webdriver.common.keys import Keys\n",
    "from selenium.webdriver import ActionChains\n",
    "from selenium.webdriver.chrome.options import Options\n",
    "from selenium.webdriver.chrome.service import Service\n",
    "from selenium.webdriver.common.by import By"
   ]
  },
  {
   "cell_type": "code",
   "execution_count": 2,
   "metadata": {},
   "outputs": [],
   "source": [
    "options = Options()\n",
    "options.add_argument(\"--start-maximized\")\n",
    "service = Service(executable_path=\"chromedriver.exe\")\n",
    "driver = webdriver.Chrome(service=service, options=options)"
   ]
  },
  {
   "cell_type": "code",
   "execution_count": 3,
   "metadata": {},
   "outputs": [],
   "source": [
    "driver.get(\"https://pu.edu.pk/splash/admissiontestresults\")"
   ]
  },
  {
   "cell_type": "code",
   "execution_count": 4,
   "metadata": {},
   "outputs": [],
   "source": [
    "input_roll = driver.find_element(By.XPATH, \"//input[@name='roll_no']\")\n"
   ]
  },
  {
   "cell_type": "code",
   "execution_count": 5,
   "metadata": {},
   "outputs": [],
   "source": [
    "roll_to_search = \"1\"\n",
    "input_roll.send_keys(roll_to_search)\n",
    "input_roll.send_keys(Keys.RETURN)"
   ]
  },
  {
   "cell_type": "code",
   "execution_count": 6,
   "metadata": {},
   "outputs": [
    {
     "data": {
      "text/plain": [
       "'<table width=\"100%\" border=\"0\" align=\"center\" cellpadding=\"15\" cellspacing=\"15\" class=\"style2\">\\n                                     \\n                                      <tbody><tr bgcolor=\"#003063\" class=\"style2\">\\n                                        <td style=\"padding:5px; \"><span class=\"style12\" style=\"color:#fff;\"><b>Name of Category of Admission Test </b></span></td>\\n                                        <td style=\"padding:5px;\"><div align=\"center\"><span class=\"style12\" style=\"color:#fff;\"><b>Marks Obtained</b></span></div></td>\\n                                        <td style=\"padding:5px;\"><div align=\"center\"><span class=\"style12\" style=\"color:#fff;\"><b>Total Marks</b></span></div></td>\\n                                       \\n                                      </tr>\\n                                     \\n                                                                           <tr bgcolor=\"#B7FFB7\">\\n                                        <td style=\"padding:5px;\" align=\"left\"><b>ICS with Statistics Combination (PU-CSS)</b></td>\\n                                        <td style=\"padding:5px;\"><div align=\"center\"><em><strong>\\n                                            52                                            </strong></em></div></td>\\n                                        <td style=\"padding:5px;\"><div align=\"center\">\\n                                           <strong>100</strong>\\n                                          </div></td>\\n                                        \\n                                      </tr>                                   \\n                                      \\n                                    </tbody></table>'"
      ]
     },
     "execution_count": 6,
     "metadata": {},
     "output_type": "execute_result"
    }
   ],
   "source": [
    "table = driver.find_elements(By.XPATH, \"//div[@id='livesearch']//table[@class!='table']\")\n",
    "table = table[1]\n",
    "table.get_attribute('outerHTML')\n",
    "\n"
   ]
  },
  {
   "cell_type": "code",
   "execution_count": 7,
   "metadata": {},
   "outputs": [
    {
     "name": "stderr",
     "output_type": "stream",
     "text": [
      "C:\\Users\\Huzaifa Azhar\\AppData\\Local\\Temp\\ipykernel_21980\\1366822132.py:1: FutureWarning: Passing literal html to 'read_html' is deprecated and will be removed in a future version. To read from a literal string, wrap it in a 'StringIO' object.\n",
      "  table = pd.read_html(table.get_attribute('outerHTML'))[0]\n"
     ]
    }
   ],
   "source": [
    "table = pd.read_html(table.get_attribute('outerHTML'))[0]\n"
   ]
  },
  {
   "cell_type": "code",
   "execution_count": 8,
   "metadata": {},
   "outputs": [
    {
     "data": {
      "text/html": [
       "<div>\n",
       "<style scoped>\n",
       "    .dataframe tbody tr th:only-of-type {\n",
       "        vertical-align: middle;\n",
       "    }\n",
       "\n",
       "    .dataframe tbody tr th {\n",
       "        vertical-align: top;\n",
       "    }\n",
       "\n",
       "    .dataframe thead th {\n",
       "        text-align: right;\n",
       "    }\n",
       "</style>\n",
       "<table border=\"1\" class=\"dataframe\">\n",
       "  <thead>\n",
       "    <tr style=\"text-align: right;\">\n",
       "      <th></th>\n",
       "      <th>0</th>\n",
       "      <th>1</th>\n",
       "      <th>2</th>\n",
       "    </tr>\n",
       "  </thead>\n",
       "  <tbody>\n",
       "    <tr>\n",
       "      <th>0</th>\n",
       "      <td>Name of Category of Admission Test</td>\n",
       "      <td>Marks Obtained</td>\n",
       "      <td>Total Marks</td>\n",
       "    </tr>\n",
       "    <tr>\n",
       "      <th>1</th>\n",
       "      <td>ICS with Statistics Combination (PU-CSS)</td>\n",
       "      <td>52</td>\n",
       "      <td>100</td>\n",
       "    </tr>\n",
       "  </tbody>\n",
       "</table>\n",
       "</div>"
      ],
      "text/plain": [
       "                                          0               1            2\n",
       "0        Name of Category of Admission Test  Marks Obtained  Total Marks\n",
       "1  ICS with Statistics Combination (PU-CSS)              52          100"
      ]
     },
     "execution_count": 8,
     "metadata": {},
     "output_type": "execute_result"
    }
   ],
   "source": [
    "table"
   ]
  },
  {
   "cell_type": "code",
   "execution_count": 11,
   "metadata": {},
   "outputs": [],
   "source": [
    "data  = {}\n",
    "data ['Roll Number'] = input_roll.get_attribute('value')\n",
    "for i in range(len(table)):\n",
    "    data[table[i][0]] = table[i][1]\n"
   ]
  },
  {
   "cell_type": "code",
   "execution_count": 12,
   "metadata": {},
   "outputs": [
    {
     "data": {
      "text/plain": [
       "{'Roll Number': '',\n",
       " 'Name of Category of Admission Test': 'ICS with Statistics Combination (PU-CSS)',\n",
       " 'Marks Obtained': '52'}"
      ]
     },
     "execution_count": 12,
     "metadata": {},
     "output_type": "execute_result"
    }
   ],
   "source": [
    "data"
   ]
  },
  {
   "cell_type": "code",
   "execution_count": null,
   "metadata": {},
   "outputs": [],
   "source": []
  }
 ],
 "metadata": {
  "kernelspec": {
   "display_name": "Python 3",
   "language": "python",
   "name": "python3"
  },
  "language_info": {
   "codemirror_mode": {
    "name": "ipython",
    "version": 3
   },
   "file_extension": ".py",
   "mimetype": "text/x-python",
   "name": "python",
   "nbconvert_exporter": "python",
   "pygments_lexer": "ipython3",
   "version": "3.12.2"
  }
 },
 "nbformat": 4,
 "nbformat_minor": 2
}
